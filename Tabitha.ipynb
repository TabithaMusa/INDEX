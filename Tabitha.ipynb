{
 "cells": [
  {
   "cell_type": "raw",
   "id": "bd6b947f-e9d8-4e32-b56a-c8e89f64cf3b",
   "metadata": {},
   "source": [
    "name = TabithaSugar"
   ]
  },
  {
   "cell_type": "code",
   "execution_count": 7,
   "id": "905f6288-4f2d-417c-92e4-7ff5fa44289f",
   "metadata": {},
   "outputs": [],
   "source": [
    "name = 'TabithaSugar' #string datatype\n",
    "age = 12 #interger datatype\n",
    "height = 12.3 #float datatype\n",
    "b = True #boolean datatype"
   ]
  },
  {
   "cell_type": "code",
   "execution_count": 8,
   "id": "46448fc3-7fa8-43d3-a5be-eed4adfcc77f",
   "metadata": {},
   "outputs": [
    {
     "data": {
      "text/plain": [
       "str"
      ]
     },
     "execution_count": 8,
     "metadata": {},
     "output_type": "execute_result"
    }
   ],
   "source": [
    "type (name)"
   ]
  },
  {
   "cell_type": "code",
   "execution_count": 9,
   "id": "0e5a131c-9b6f-4175-94fc-21a3f562aef2",
   "metadata": {},
   "outputs": [
    {
     "data": {
      "text/plain": [
       "int"
      ]
     },
     "execution_count": 9,
     "metadata": {},
     "output_type": "execute_result"
    }
   ],
   "source": [
    "type (age)"
   ]
  },
  {
   "cell_type": "code",
   "execution_count": 10,
   "id": "c87d8475-009a-4e15-84b5-8eb1aa887ea5",
   "metadata": {},
   "outputs": [
    {
     "data": {
      "text/plain": [
       "float"
      ]
     },
     "execution_count": 10,
     "metadata": {},
     "output_type": "execute_result"
    }
   ],
   "source": [
    "type (height)"
   ]
  },
  {
   "cell_type": "code",
   "execution_count": 11,
   "id": "7a4a786d-49aa-4cc7-9a87-9d133fde0dce",
   "metadata": {},
   "outputs": [
    {
     "data": {
      "text/plain": [
       "bool"
      ]
     },
     "execution_count": 11,
     "metadata": {},
     "output_type": "execute_result"
    }
   ],
   "source": [
    "type (b)"
   ]
  },
  {
   "cell_type": "code",
   "execution_count": 12,
   "id": "2afcae94-9b8e-4656-8ba1-fa79e2f7cc55",
   "metadata": {},
   "outputs": [
    {
     "name": "stdout",
     "output_type": "stream",
     "text": [
      "TabithaSugar\n"
     ]
    }
   ],
   "source": [
    "print(name)"
   ]
  },
  {
   "cell_type": "code",
   "execution_count": 13,
   "id": "257d8e88-ccb1-4a46-ae00-a9479792e88f",
   "metadata": {},
   "outputs": [
    {
     "data": {
      "text/plain": [
       "'TabithaSugar'"
      ]
     },
     "execution_count": 13,
     "metadata": {},
     "output_type": "execute_result"
    }
   ],
   "source": [
    "name"
   ]
  },
  {
   "cell_type": "code",
   "execution_count": 14,
   "id": "99f4dd4a-19a1-40b1-8aa4-b26c6c700525",
   "metadata": {},
   "outputs": [
    {
     "data": {
      "text/plain": [
       "12"
      ]
     },
     "execution_count": 14,
     "metadata": {},
     "output_type": "execute_result"
    }
   ],
   "source": [
    "len(name)"
   ]
  },
  {
   "cell_type": "code",
   "execution_count": 15,
   "id": "d31be5c8-f487-4cca-89c4-6b53663c8b19",
   "metadata": {},
   "outputs": [
    {
     "name": "stdout",
     "output_type": "stream",
     "text": [
      "True\n"
     ]
    }
   ],
   "source": [
    "print(b)"
   ]
  },
  {
   "cell_type": "code",
   "execution_count": 16,
   "id": "3ca2e103-797b-474d-bca6-0c65c2a08b43",
   "metadata": {},
   "outputs": [],
   "source": [
    "a= 100\n",
    "b= 20"
   ]
  },
  {
   "cell_type": "code",
   "execution_count": 17,
   "id": "99cd7f1f-4c10-4375-a3e7-41f982f82f7f",
   "metadata": {},
   "outputs": [
    {
     "data": {
      "text/plain": [
       "True"
      ]
     },
     "execution_count": 17,
     "metadata": {},
     "output_type": "execute_result"
    }
   ],
   "source": [
    "a>b"
   ]
  },
  {
   "cell_type": "code",
   "execution_count": 18,
   "id": "b2857245-37a7-4d14-b530-c2c7401563c4",
   "metadata": {
    "scrolled": true
   },
   "outputs": [
    {
     "name": "stdout",
     "output_type": "stream",
     "text": [
      "1000\n"
     ]
    }
   ],
   "source": [
    "a = 10\n",
    "a = 100\n",
    "a = 1000\n",
    "print(a)"
   ]
  },
  {
   "cell_type": "code",
   "execution_count": 19,
   "id": "137a8e8a-cb6c-4573-845b-30acb7cd562e",
   "metadata": {},
   "outputs": [
    {
     "ename": "SyntaxError",
     "evalue": "invalid syntax. Perhaps you forgot a comma? (213216066.py, line 1)",
     "output_type": "error",
     "traceback": [
      "\u001b[1;36m  Cell \u001b[1;32mIn[19], line 1\u001b[1;36m\u001b[0m\n\u001b[1;33m    x = int(input(\"enter the value for x: \")\u001b[0m\n\u001b[1;37m            ^\u001b[0m\n\u001b[1;31mSyntaxError\u001b[0m\u001b[1;31m:\u001b[0m invalid syntax. Perhaps you forgot a comma?\n"
     ]
    }
   ],
   "source": [
    "x = int(input(\"enter the value for x: \")\n",
    "y = int(input(\" enter the value for y: \")  \n",
    "\n",
    "x==y"
   ]
  },
  {
   "cell_type": "code",
   "execution_count": null,
   "id": "57c6e23b-92c1-4c51-a786-0c5fc6f63bc0",
   "metadata": {},
   "outputs": [
    {
     "data": {
      "text/plain": [
       "True"
      ]
     },
     "execution_count": 3,
     "metadata": {},
     "output_type": "execute_result"
    }
   ],
   "source": [
    "a=20\n",
    "b=57\n",
    "\n",
    "a<b and b>a"
   ]
  },
  {
   "cell_type": "code",
   "execution_count": null,
   "id": "2aade5d3-74a3-4a0b-890c-e3d2aba49c64",
   "metadata": {},
   "outputs": [
    {
     "data": {
      "text/plain": [
       "False"
      ]
     },
     "execution_count": 2,
     "metadata": {},
     "output_type": "execute_result"
    }
   ],
   "source": [
    "a<b and b<a"
   ]
  },
  {
   "cell_type": "code",
   "execution_count": null,
   "id": "62173d03-b031-4afb-b09c-92e9fcf3cabc",
   "metadata": {},
   "outputs": [
    {
     "name": "stdout",
     "output_type": "stream",
     "text": [
      "Tabitha Musa\n"
     ]
    }
   ],
   "source": [
    "Schoolname = 'Seedbuilder'\n",
    "firstname = 'Tabitha'\n",
    "surname = 'Musa'\n",
    "fullname = \"Tabitha\" + \" \" \"Musa\"\n",
    "print(fullname)"
   ]
  },
  {
   "cell_type": "code",
   "execution_count": null,
   "id": "0324a852-ed9c-443e-a082-8e9a760704bd",
   "metadata": {},
   "outputs": [],
   "source": []
  },
  {
   "cell_type": "code",
   "execution_count": null,
   "id": "132d0631-021f-430f-8b95-7dbf604cddbe",
   "metadata": {},
   "outputs": [
    {
     "data": {
      "text/plain": [
       "'u'"
      ]
     },
     "execution_count": 2,
     "metadata": {},
     "output_type": "execute_result"
    }
   ],
   "source": [
    "name=\"this is seedbuilders\"\n",
    "name[13]"
   ]
  },
  {
   "cell_type": "code",
   "execution_count": null,
   "id": "2e21b93d-78a7-4724-a8fe-952ae2c7065d",
   "metadata": {},
   "outputs": [
    {
     "ename": "IndexError",
     "evalue": "list index out of range",
     "output_type": "error",
     "traceback": [
      "\u001b[1;31m---------------------------------------------------------------------------\u001b[0m",
      "\u001b[1;31mIndexError\u001b[0m                                Traceback (most recent call last)",
      "Cell \u001b[1;32mIn[15], line 3\u001b[0m\n\u001b[0;32m      1\u001b[0m food \u001b[38;5;241m=\u001b[39m [\u001b[38;5;124m'\u001b[39m\u001b[38;5;124mkiwi\u001b[39m\u001b[38;5;124m'\u001b[39m, \u001b[38;5;124m'\u001b[39m\u001b[38;5;124mjollof\u001b[39m\u001b[38;5;124m'\u001b[39m, \u001b[38;5;124m'\u001b[39m\u001b[38;5;124msalad\u001b[39m\u001b[38;5;124m'\u001b[39m, \u001b[38;5;124m'\u001b[39m\u001b[38;5;124mchicken\u001b[39m\u001b[38;5;124m'\u001b[39m, \u001b[38;5;124m'\u001b[39m\u001b[38;5;124morange\u001b[39m\u001b[38;5;124m'\u001b[39m, \u001b[38;5;124m'\u001b[39m\u001b[38;5;124mpineapple\u001b[39m\u001b[38;5;124m'\u001b[39m, \u001b[38;5;124m'\u001b[39m\u001b[38;5;124mcarrot\u001b[39m\u001b[38;5;124m'\u001b[39m, \u001b[38;5;124m'\u001b[39m\u001b[38;5;124msemo\u001b[39m\u001b[38;5;124m'\u001b[39m, \u001b[38;5;124m'\u001b[39m\u001b[38;5;124mokro\u001b[39m\u001b[38;5;124m'\u001b[39m, \u001b[38;5;124m'\u001b[39m\u001b[38;5;124mfriedrice\u001b[39m\u001b[38;5;124m'\u001b[39m]\n\u001b[0;32m      2\u001b[0m food[\u001b[38;5;241m4\u001b[39m]\n\u001b[1;32m----> 3\u001b[0m food[\u001b[38;5;241m11\u001b[39m]\n",
      "\u001b[1;31mIndexError\u001b[0m: list index out of range"
     ]
    }
   ],
   "source": [
    "food = ['kiwi', 'jollof', 'salad', 'chicken', 'orange', 'pineapple', 'carrot', 'semo', 'okro', 'friedrice']\n",
    "food[4]\n",
    "food[11]"
   ]
  },
  {
   "cell_type": "code",
   "execution_count": null,
   "id": "ac74e4f7-be8b-4aa2-a85a-bcf9d6dd094f",
   "metadata": {},
   "outputs": [
    {
     "data": {
      "text/plain": [
       "'builders'"
      ]
     },
     "execution_count": 19,
     "metadata": {},
     "output_type": "execute_result"
    }
   ],
   "source": [
    "name= \"seedbuilders\"\n",
    "name[0:3]\n",
    "name[0:4]\n",
    "name[4:12]"
   ]
  },
  {
   "cell_type": "code",
   "execution_count": null,
   "id": "5c20aec6-a0d6-4cce-8fd1-0b31c2ac3d7a",
   "metadata": {},
   "outputs": [
    {
     "data": {
      "text/plain": [
       "'builders'"
      ]
     },
     "execution_count": 20,
     "metadata": {},
     "output_type": "execute_result"
    }
   ],
   "source": [
    "name[4::]"
   ]
  },
  {
   "cell_type": "code",
   "execution_count": null,
   "id": "8eb593ee-1eea-4999-b997-290075b3ba71",
   "metadata": {},
   "outputs": [
    {
     "data": {
      "text/plain": [
       "'builders'"
      ]
     },
     "execution_count": 22,
     "metadata": {},
     "output_type": "execute_result"
    }
   ],
   "source": [
    "name[4::1]"
   ]
  },
  {
   "cell_type": "code",
   "execution_count": null,
   "id": "eb3100da-44b7-4003-8e58-8c7b1998df7b",
   "metadata": {},
   "outputs": [
    {
     "data": {
      "text/plain": [
       "'banana'"
      ]
     },
     "execution_count": 6,
     "metadata": {},
     "output_type": "execute_result"
    }
   ],
   "source": [
    "fruits = ['apple', 'kiwi', 'orange', 'banana']\n",
    "fruits[3]"
   ]
  },
  {
   "cell_type": "code",
   "execution_count": null,
   "id": "666df10f",
   "metadata": {},
   "outputs": [],
   "source": [
    "fruits[2] = 'pineapple'"
   ]
  },
  {
   "cell_type": "code",
   "execution_count": null,
   "id": "22200fb6",
   "metadata": {},
   "outputs": [
    {
     "data": {
      "text/plain": [
       "['apple', 'kiwi', 'pineapple', 'banana']"
      ]
     },
     "execution_count": 14,
     "metadata": {},
     "output_type": "execute_result"
    }
   ],
   "source": [
    "fruits"
   ]
  },
  {
   "cell_type": "code",
   "execution_count": null,
   "id": "9fa35caa",
   "metadata": {},
   "outputs": [
    {
     "data": {
      "text/plain": [
       "('golden morn', 'strawberry', 'bloody mary')"
      ]
     },
     "execution_count": 40,
     "metadata": {},
     "output_type": "execute_result"
    }
   ],
   "source": [
    "food = ['sugar', ['corn flakes','golden morn', 'granola','muesli'], ['strawberry','orange'],['bloody mary','lady killer']]\n",
    "food[1][1] , food[2][0] , food[3][0]   \n",
    "                                                           "
   ]
  },
  {
   "cell_type": "code",
   "execution_count": null,
   "id": "78188146",
   "metadata": {},
   "outputs": [
    {
     "name": "stdout",
     "output_type": "stream",
     "text": [
      "golden morn\n"
     ]
    }
   ],
   "source": [
    "print(food[1][1])"
   ]
  },
  {
   "cell_type": "code",
   "execution_count": null,
   "id": "d02b9ab3",
   "metadata": {},
   "outputs": [
    {
     "name": "stdout",
     "output_type": "stream",
     "text": [
      "['sugar', ['corn flakes', 'golden morn', 'granola', 'muesli'], ['strawberry', 'orange'], ['bloody mary', 'lady killer']]\n"
     ]
    }
   ],
   "source": [
    "print(food)"
   ]
  },
  {
   "cell_type": "code",
   "execution_count": null,
   "id": "59968718",
   "metadata": {},
   "outputs": [],
   "source": [
    "food[2][0]= 'milkshake'"
   ]
  },
  {
   "cell_type": "code",
   "execution_count": null,
   "id": "3e118ba7",
   "metadata": {},
   "outputs": [],
   "source": [
    "food[3][0]= 'four cousin'"
   ]
  },
  {
   "cell_type": "code",
   "execution_count": null,
   "id": "a50e95c6",
   "metadata": {},
   "outputs": [
    {
     "name": "stdout",
     "output_type": "stream",
     "text": [
      "['sugar', ['corn flakes', 'golden morn', 'granola', 'muesli'], ['milkshake', 'orange'], ['four cousin', 'lady killer']]\n"
     ]
    }
   ],
   "source": [
    "print(food)"
   ]
  },
  {
   "cell_type": "code",
   "execution_count": null,
   "id": "aedb638d",
   "metadata": {},
   "outputs": [
    {
     "data": {
      "text/plain": [
       "['golden morn', 'granola']"
      ]
     },
     "execution_count": 58,
     "metadata": {},
     "output_type": "execute_result"
    }
   ],
   "source": [
    "food[1][1:3]"
   ]
  },
  {
   "cell_type": "code",
   "execution_count": null,
   "id": "cdfc4f7f",
   "metadata": {},
   "outputs": [
    {
     "name": "stdout",
     "output_type": "stream",
     "text": [
      "[['corn flakes', 'golden morn', 'granola', 'muesli'], ['four cousin', 'lady killer']]\n"
     ]
    }
   ],
   "source": [
    "print(food[1::2])"
   ]
  },
  {
   "cell_type": "code",
   "execution_count": null,
   "id": "78822bc9",
   "metadata": {},
   "outputs": [],
   "source": [
    "Food =['eba','jollof','cucumber','banana','egg']"
   ]
  },
  {
   "cell_type": "code",
   "execution_count": null,
   "id": "7bf93760",
   "metadata": {},
   "outputs": [],
   "source": [
    "food2 = ['masa','poundo', 'egusi','vegetable', 'okro']"
   ]
  },
  {
   "cell_type": "code",
   "execution_count": 20,
   "id": "c3b1f0a2",
   "metadata": {},
   "outputs": [],
   "source": [
    "Food.append(food2)"
   ]
  },
  {
   "cell_type": "code",
   "execution_count": 21,
   "id": "a72e1bbd",
   "metadata": {},
   "outputs": [
    {
     "name": "stdout",
     "output_type": "stream",
     "text": [
      "['eba', 'jollof', 'cucumber', 'banana', 'eggs', ['masa', 'poundo', 'egusi', 'vegetable', 'okro']]\n"
     ]
    }
   ],
   "source": [
    "print(Food)"
   ]
  },
  {
   "cell_type": "code",
   "execution_count": 23,
   "id": "dbded951",
   "metadata": {},
   "outputs": [],
   "source": [
    "Food.extend(food2)"
   ]
  },
  {
   "cell_type": "code",
   "execution_count": 26,
   "id": "f0550a22",
   "metadata": {},
   "outputs": [
    {
     "data": {
      "text/plain": [
       "['eba',\n",
       " 'jollof',\n",
       " 'cucumber',\n",
       " 'banana',\n",
       " 'eggs',\n",
       " ['masa', 'poundo', 'egusi', 'vegetable', 'okro'],\n",
       " 'masa',\n",
       " 'poundo',\n",
       " 'egusi',\n",
       " 'vegetable',\n",
       " 'okro']"
      ]
     },
     "execution_count": 26,
     "metadata": {},
     "output_type": "execute_result"
    }
   ],
   "source": [
    "Food.copy()"
   ]
  },
  {
   "cell_type": "code",
   "execution_count": 28,
   "id": "a5e91beb",
   "metadata": {},
   "outputs": [],
   "source": [
    "newfood = Food.copy()"
   ]
  },
  {
   "cell_type": "code",
   "execution_count": 30,
   "id": "1a59121a",
   "metadata": {},
   "outputs": [
    {
     "name": "stdout",
     "output_type": "stream",
     "text": [
      "['eba', 'jollof', 'cucumber', 'banana', 'eggs', ['masa', 'poundo', 'egusi', 'vegetable', 'okro'], 'masa', 'poundo', 'egusi', 'vegetable', 'okro']\n"
     ]
    }
   ],
   "source": [
    "print(newfood)"
   ]
  },
  {
   "cell_type": "code",
   "execution_count": 32,
   "id": "89032983",
   "metadata": {},
   "outputs": [],
   "source": [
    "Food.clear()"
   ]
  },
  {
   "cell_type": "code",
   "execution_count": 33,
   "id": "2feca689",
   "metadata": {},
   "outputs": [],
   "source": [
    "food2.clear()"
   ]
  },
  {
   "cell_type": "code",
   "execution_count": 34,
   "id": "20b00e3c",
   "metadata": {},
   "outputs": [
    {
     "data": {
      "text/plain": [
       "0"
      ]
     },
     "execution_count": 34,
     "metadata": {},
     "output_type": "execute_result"
    }
   ],
   "source": [
    "Food.count('eba')"
   ]
  },
  {
   "cell_type": "code",
   "execution_count": 40,
   "id": "cb9161ca",
   "metadata": {},
   "outputs": [],
   "source": [
    "Cars = ['camry', 'benz', 'bmw', 'range rover', 'lexus', 'volvo']"
   ]
  },
  {
   "cell_type": "code",
   "execution_count": 41,
   "id": "945a0b16",
   "metadata": {},
   "outputs": [
    {
     "data": {
      "text/plain": [
       "'range rover'"
      ]
     },
     "execution_count": 41,
     "metadata": {},
     "output_type": "execute_result"
    }
   ],
   "source": [
    "Cars.pop(3)"
   ]
  },
  {
   "cell_type": "code",
   "execution_count": 46,
   "id": "c4c111aa",
   "metadata": {},
   "outputs": [],
   "source": [
    "Cars.remove('bmw')"
   ]
  },
  {
   "cell_type": "code",
   "execution_count": 47,
   "id": "d1605cbf",
   "metadata": {},
   "outputs": [
    {
     "name": "stdout",
     "output_type": "stream",
     "text": [
      "['camry', 'benz', 'lexus']\n"
     ]
    }
   ],
   "source": [
    "print(Cars)"
   ]
  },
  {
   "cell_type": "code",
   "execution_count": 49,
   "id": "7824c4fa",
   "metadata": {},
   "outputs": [],
   "source": [
    "Cars.sort()"
   ]
  },
  {
   "cell_type": "code",
   "execution_count": 50,
   "id": "7819b929",
   "metadata": {},
   "outputs": [
    {
     "name": "stdout",
     "output_type": "stream",
     "text": [
      "['benz', 'camry', 'lexus']\n"
     ]
    }
   ],
   "source": [
    "print(Cars)"
   ]
  },
  {
   "cell_type": "code",
   "execution_count": 51,
   "id": "0c6d99d8",
   "metadata": {},
   "outputs": [],
   "source": [
    "Foods = ['okro','eba', 'jollof','egusi','carrot','cucumber','kiwi','milkshake','bloodymary']\n",
    "Foods.sort()"
   ]
  },
  {
   "cell_type": "code",
   "execution_count": 52,
   "id": "9c6ce929",
   "metadata": {},
   "outputs": [
    {
     "name": "stdout",
     "output_type": "stream",
     "text": [
      "['bloodymary', 'carrot', 'cucumber', 'eba', 'egusi', 'jollof', 'kiwi', 'milkshake', 'okro']\n"
     ]
    }
   ],
   "source": [
    "print(Foods)"
   ]
  },
  {
   "cell_type": "code",
   "execution_count": 53,
   "id": "f711960b",
   "metadata": {},
   "outputs": [],
   "source": [
    "Foods.sort(reverse=True)"
   ]
  },
  {
   "cell_type": "code",
   "execution_count": 54,
   "id": "74f9f2c6",
   "metadata": {},
   "outputs": [
    {
     "name": "stdout",
     "output_type": "stream",
     "text": [
      "['okro', 'milkshake', 'kiwi', 'jollof', 'egusi', 'eba', 'cucumber', 'carrot', 'bloodymary']\n"
     ]
    }
   ],
   "source": [
    "print(Foods)"
   ]
  }
 ],
 "metadata": {
  "kernelspec": {
   "display_name": "Python 3 (ipykernel)",
   "language": "python",
   "name": "python3"
  },
  "language_info": {
   "codemirror_mode": {
    "name": "ipython",
    "version": 3
   },
   "file_extension": ".py",
   "mimetype": "text/x-python",
   "name": "python",
   "nbconvert_exporter": "python",
   "pygments_lexer": "ipython3",
   "version": "3.11.7"
  }
 },
 "nbformat": 4,
 "nbformat_minor": 5
}

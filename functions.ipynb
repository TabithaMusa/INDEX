{
 "cells": [
  {
   "cell_type": "code",
   "execution_count": 17,
   "metadata": {},
   "outputs": [],
   "source": [
    "def my_function(child3, child2, child1):\n",
    "    print(\"The youngest child is \"  +  child1)\n",
    "    print(\"the mid child is \" + child2)\n",
    "    print(\"the eldest child is \" + child3)\n",
    "    return\n"
   ]
  },
  {
   "cell_type": "code",
   "execution_count": 18,
   "metadata": {},
   "outputs": [
    {
     "name": "stdout",
     "output_type": "stream",
     "text": [
      "The youngest child is Emil\n",
      "the mid child is Tobias\n",
      "the eldest child is Linus\n"
     ]
    }
   ],
   "source": [
    "my_function(child1= \"Emil\", child2= \"Tobias\", child3=  \"Linus\")"
   ]
  },
  {
   "cell_type": "code",
   "execution_count": 19,
   "metadata": {},
   "outputs": [
    {
     "name": "stdout",
     "output_type": "stream",
     "text": [
      "The youngest child is Tobias\n",
      "the mid child is Linus\n",
      "the eldest child is Emil\n"
     ]
    }
   ],
   "source": [
    "my_function( 'Emil', 'Linus', 'Tobias')"
   ]
  },
  {
   "cell_type": "code",
   "execution_count": 30,
   "metadata": {},
   "outputs": [],
   "source": [
    "def info():\n",
    "    name = input(\"name\")\n",
    "    age = int(input(\"age\"))\n",
    "    print(name, 'is' , age)\n",
    "    return"
   ]
  },
  {
   "cell_type": "code",
   "execution_count": 31,
   "metadata": {},
   "outputs": [
    {
     "name": "stdout",
     "output_type": "stream",
     "text": [
      "Tabitha is 27\n"
     ]
    }
   ],
   "source": [
    "info()"
   ]
  },
  {
   "cell_type": "code",
   "execution_count": 32,
   "metadata": {},
   "outputs": [
    {
     "name": "stdout",
     "output_type": "stream",
     "text": [
      "25\n",
      "90\n",
      "23\n"
     ]
    }
   ],
   "source": [
    "age = 25\n",
    "print (age)\n",
    "age=90\n",
    "print(age)\n",
    "age=23\n",
    "print(age)"
   ]
  },
  {
   "cell_type": "code",
   "execution_count": 33,
   "metadata": {},
   "outputs": [
    {
     "name": "stdout",
     "output_type": "stream",
     "text": [
      "23\n"
     ]
    }
   ],
   "source": [
    "print(age)"
   ]
  },
  {
   "cell_type": "code",
   "execution_count": 35,
   "metadata": {},
   "outputs": [],
   "source": [
    "def printinfo(age=25):\n",
    "    \"This prints the info about a person\"\n",
    "    print(\"age \", age)\n",
    "    return\n"
   ]
  },
  {
   "cell_type": "code",
   "execution_count": 36,
   "metadata": {},
   "outputs": [
    {
     "name": "stdout",
     "output_type": "stream",
     "text": [
      "age  90\n"
     ]
    }
   ],
   "source": [
    "printinfo(90)"
   ]
  },
  {
   "cell_type": "code",
   "execution_count": 37,
   "metadata": {},
   "outputs": [
    {
     "name": "stdout",
     "output_type": "stream",
     "text": [
      "age  25\n"
     ]
    }
   ],
   "source": [
    "printinfo()"
   ]
  },
  {
   "cell_type": "code",
   "execution_count": 1,
   "metadata": {},
   "outputs": [],
   "source": [
    "def myFun(*argv):\n",
    "    for arg in argv:\n",
    "        print(arg)"
   ]
  },
  {
   "cell_type": "code",
   "execution_count": 2,
   "metadata": {},
   "outputs": [
    {
     "name": "stdout",
     "output_type": "stream",
     "text": [
      "hello\n",
      "welcome\n",
      "to\n",
      "geeksforgeeks\n"
     ]
    }
   ],
   "source": [
    "myFun('hello', 'welcome', 'to','geeksforgeeks' )"
   ]
  },
  {
   "cell_type": "code",
   "execution_count": 17,
   "metadata": {},
   "outputs": [],
   "source": [
    "def myFun(arg1, *argv):\n",
    "    print(\"name:\", arg1)\n",
    "    for arg in argv:\n",
    "        print(arg)\n",
    "    return"
   ]
  },
  {
   "cell_type": "code",
   "execution_count": 18,
   "metadata": {},
   "outputs": [
    {
     "name": "stdout",
     "output_type": "stream",
     "text": [
      "name: John\n",
      "80\n",
      "90\n",
      "98\n",
      "97\n"
     ]
    }
   ],
   "source": [
    "myFun(\"John\", 80,90,98,97)"
   ]
  },
  {
   "cell_type": "code",
   "execution_count": null,
   "metadata": {},
   "outputs": [],
   "source": []
  }
 ],
 "metadata": {
  "kernelspec": {
   "display_name": "base",
   "language": "python",
   "name": "python3"
  },
  "language_info": {
   "codemirror_mode": {
    "name": "ipython",
    "version": 3
   },
   "file_extension": ".py",
   "mimetype": "text/x-python",
   "name": "python",
   "nbconvert_exporter": "python",
   "pygments_lexer": "ipython3",
   "version": "3.11.7"
  }
 },
 "nbformat": 4,
 "nbformat_minor": 2
}

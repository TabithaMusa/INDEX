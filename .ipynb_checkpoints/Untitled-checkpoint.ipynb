{
 "cells": [
  {
   "cell_type": "raw",
   "id": "bd6b947f-e9d8-4e32-b56a-c8e89f64cf3b",
   "metadata": {},
   "source": [
    "name = TabithaSugar"
   ]
  },
  {
   "cell_type": "code",
   "execution_count": 17,
   "id": "905f6288-4f2d-417c-92e4-7ff5fa44289f",
   "metadata": {},
   "outputs": [],
   "source": [
    "name = 'TabithaSugar' #string datatype\n",
    "age = 12 #interger datatype\n",
    "height = 12.3 #float datatype\n",
    "b = True #boolean datatype"
   ]
  },
  {
   "cell_type": "code",
   "execution_count": 3,
   "id": "46448fc3-7fa8-43d3-a5be-eed4adfcc77f",
   "metadata": {},
   "outputs": [
    {
     "data": {
      "text/plain": [
       "str"
      ]
     },
     "execution_count": 3,
     "metadata": {},
     "output_type": "execute_result"
    }
   ],
   "source": [
    "type (name)"
   ]
  },
  {
   "cell_type": "code",
   "execution_count": 4,
   "id": "0e5a131c-9b6f-4175-94fc-21a3f562aef2",
   "metadata": {},
   "outputs": [
    {
     "data": {
      "text/plain": [
       "int"
      ]
     },
     "execution_count": 4,
     "metadata": {},
     "output_type": "execute_result"
    }
   ],
   "source": [
    "type (age)"
   ]
  },
  {
   "cell_type": "code",
   "execution_count": 5,
   "id": "c87d8475-009a-4e15-84b5-8eb1aa887ea5",
   "metadata": {},
   "outputs": [
    {
     "data": {
      "text/plain": [
       "float"
      ]
     },
     "execution_count": 5,
     "metadata": {},
     "output_type": "execute_result"
    }
   ],
   "source": [
    "type (height)"
   ]
  },
  {
   "cell_type": "code",
   "execution_count": 6,
   "id": "7a4a786d-49aa-4cc7-9a87-9d133fde0dce",
   "metadata": {},
   "outputs": [
    {
     "data": {
      "text/plain": [
       "bool"
      ]
     },
     "execution_count": 6,
     "metadata": {},
     "output_type": "execute_result"
    }
   ],
   "source": [
    "type (b)"
   ]
  },
  {
   "cell_type": "code",
   "execution_count": 15,
   "id": "2afcae94-9b8e-4656-8ba1-fa79e2f7cc55",
   "metadata": {},
   "outputs": [
    {
     "name": "stdout",
     "output_type": "stream",
     "text": [
      "TabithaSugar\n"
     ]
    }
   ],
   "source": [
    "print(name)"
   ]
  },
  {
   "cell_type": "code",
   "execution_count": 16,
   "id": "257d8e88-ccb1-4a46-ae00-a9479792e88f",
   "metadata": {},
   "outputs": [
    {
     "data": {
      "text/plain": [
       "'TabithaSugar'"
      ]
     },
     "execution_count": 16,
     "metadata": {},
     "output_type": "execute_result"
    }
   ],
   "source": [
    "name"
   ]
  },
  {
   "cell_type": "code",
   "execution_count": 18,
   "id": "99f4dd4a-19a1-40b1-8aa4-b26c6c700525",
   "metadata": {},
   "outputs": [
    {
     "data": {
      "text/plain": [
       "12"
      ]
     },
     "execution_count": 18,
     "metadata": {},
     "output_type": "execute_result"
    }
   ],
   "source": [
    "len(name)"
   ]
  },
  {
   "cell_type": "code",
   "execution_count": 19,
   "id": "d31be5c8-f487-4cca-89c4-6b53663c8b19",
   "metadata": {},
   "outputs": [
    {
     "name": "stdout",
     "output_type": "stream",
     "text": [
      "True\n"
     ]
    }
   ],
   "source": [
    "print(b)"
   ]
  },
  {
   "cell_type": "code",
   "execution_count": 20,
   "id": "3ca2e103-797b-474d-bca6-0c65c2a08b43",
   "metadata": {},
   "outputs": [],
   "source": [
    "a= 100\n",
    "b= 20"
   ]
  },
  {
   "cell_type": "code",
   "execution_count": 21,
   "id": "99cd7f1f-4c10-4375-a3e7-41f982f82f7f",
   "metadata": {},
   "outputs": [
    {
     "data": {
      "text/plain": [
       "True"
      ]
     },
     "execution_count": 21,
     "metadata": {},
     "output_type": "execute_result"
    }
   ],
   "source": [
    "a>b"
   ]
  },
  {
   "cell_type": "code",
   "execution_count": 23,
   "id": "b2857245-37a7-4d14-b530-c2c7401563c4",
   "metadata": {
    "scrolled": true
   },
   "outputs": [
    {
     "name": "stdout",
     "output_type": "stream",
     "text": [
      "1000\n"
     ]
    }
   ],
   "source": [
    "a = 10\n",
    "a = 100\n",
    "a = 1000\n",
    "print(a)"
   ]
  },
  {
   "cell_type": "code",
   "execution_count": 33,
   "id": "137a8e8a-cb6c-4573-845b-30acb7cd562e",
   "metadata": {},
   "outputs": [
    {
     "ename": "SyntaxError",
     "evalue": "invalid syntax. Perhaps you forgot a comma? (213216066.py, line 1)",
     "output_type": "error",
     "traceback": [
      "\u001b[1;36m  Cell \u001b[1;32mIn[33], line 1\u001b[1;36m\u001b[0m\n\u001b[1;33m    x = int(input(\"enter the value for x: \")\u001b[0m\n\u001b[1;37m            ^\u001b[0m\n\u001b[1;31mSyntaxError\u001b[0m\u001b[1;31m:\u001b[0m invalid syntax. Perhaps you forgot a comma?\n"
     ]
    }
   ],
   "source": [
    "x = int(input(\"enter the value for x: \")\n",
    "y = int(input(\" enter the value for y: \")  \n",
    "\n",
    "x==y"
   ]
  },
  {
   "cell_type": "code",
   "execution_count": null,
   "id": "57c6e23b-92c1-4c51-a786-0c5fc6f63bc0",
   "metadata": {},
   "outputs": [],
   "source": []
  },
  {
   "cell_type": "code",
   "execution_count": null,
   "id": "2aade5d3-74a3-4a0b-890c-e3d2aba49c64",
   "metadata": {},
   "outputs": [],
   "source": []
  }
 ],
 "metadata": {
  "kernelspec": {
   "display_name": "Python 3 (ipykernel)",
   "language": "python",
   "name": "python3"
  },
  "language_info": {
   "codemirror_mode": {
    "name": "ipython",
    "version": 3
   },
   "file_extension": ".py",
   "mimetype": "text/x-python",
   "name": "python",
   "nbconvert_exporter": "python",
   "pygments_lexer": "ipython3",
   "version": "3.11.7"
  }
 },
 "nbformat": 4,
 "nbformat_minor": 5
}

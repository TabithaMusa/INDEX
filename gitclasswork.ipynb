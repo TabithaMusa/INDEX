{
 "cells": [
  {
   "cell_type": "code",
   "execution_count": 24,
   "metadata": {},
   "outputs": [],
   "source": [
    "Food = ['sugar','kiwi','jollof','suya','salad','wine']\n",
    "Cars = ['bmw','camry','range rover','benz','honda']\n",
    "\n",
    "#the below codes shows Food list and Car list been added and also extended by using 2 different main list(extend and append)\n",
    "Food.append(Cars)\n",
    "Food.extend(Cars)"
   ]
  },
  {
   "cell_type": "code",
   "execution_count": 25,
   "metadata": {},
   "outputs": [
    {
     "name": "stdout",
     "output_type": "stream",
     "text": [
      "['sugar', 'kiwi', 'jollof', 'suya', 'salad', 'wine', ['bmw', 'camry', 'range rover', 'benz', 'honda'], 'bmw', 'camry', 'range rover', 'benz', 'honda']\n"
     ]
    }
   ],
   "source": [
    "print(Food)\n",
    "\n",
    "#this is the final result for appending and extending the both list"
   ]
  },
  {
   "cell_type": "code",
   "execution_count": 26,
   "metadata": {},
   "outputs": [
    {
     "name": "stdout",
     "output_type": "stream",
     "text": [
      "['bmw', 'camry', 'range rover', 'benz', 'honda']\n"
     ]
    }
   ],
   "source": [
    "print(Cars)"
   ]
  },
  {
   "cell_type": "code",
   "execution_count": 28,
   "metadata": {},
   "outputs": [],
   "source": [
    "Food.pop(0)\n",
    "\n",
    "Cars.remove('camry')\n",
    "\n",
    "#the both codes above shows an item been removed from both list using index and values"
   ]
  },
  {
   "cell_type": "code",
   "execution_count": 30,
   "metadata": {},
   "outputs": [
    {
     "name": "stdout",
     "output_type": "stream",
     "text": [
      "['jollof', 'suya', 'salad', 'wine', ['bmw', 'range rover', 'benz', 'honda'], 'bmw', 'camry', 'range rover', 'benz', 'honda']\n",
      "['bmw', 'range rover', 'benz', 'honda']\n"
     ]
    }
   ],
   "source": [
    "print(Food)\n",
    "\n",
    "print(Cars)\n",
    "\n",
    "#the below shows the list of both food and cars after removing an item from both lists."
   ]
  },
  {
   "cell_type": "markdown",
   "metadata": {},
   "source": []
  }
 ],
 "metadata": {
  "language_info": {
   "name": "python"
  }
 },
 "nbformat": 4,
 "nbformat_minor": 2
}
